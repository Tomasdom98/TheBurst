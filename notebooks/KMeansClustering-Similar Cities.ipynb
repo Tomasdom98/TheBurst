{
 "cells": [
  {
   "cell_type": "code",
   "execution_count": 49,
   "id": "ab12c648",
   "metadata": {},
   "outputs": [],
   "source": [
    "import pandas as pd\n",
    "from sklearn.cluster import KMeans\n",
    "import numpy as np\n",
    "import matplotlib.pyplot as plt"
   ]
  },
  {
   "cell_type": "code",
   "execution_count": 50,
   "id": "a2320d02",
   "metadata": {},
   "outputs": [
    {
     "name": "stderr",
     "output_type": "stream",
     "text": [
      "/tmp/ipykernel_455/2791066832.py:1: DtypeWarning: Columns (1,6) have mixed types. Specify dtype option on import or set low_memory=False.\n",
      "  df=pd.read_csv('database_cities.csv')\n"
     ]
    }
   ],
   "source": [
    "df=pd.read_csv('database_cities.csv')"
   ]
  },
  {
   "cell_type": "code",
   "execution_count": 51,
   "id": "457082bd",
   "metadata": {},
   "outputs": [],
   "source": [
    "df=df[['code_commune_INSEE','Distance_y','Distance_x','Population','PrixMoyen_M2','statut','s1','s2','s3','s4','s5']]"
   ]
  },
  {
   "cell_type": "code",
   "execution_count": 52,
   "id": "a315856a",
   "metadata": {},
   "outputs": [
    {
     "data": {
      "text/html": [
       "<div>\n",
       "<style scoped>\n",
       "    .dataframe tbody tr th:only-of-type {\n",
       "        vertical-align: middle;\n",
       "    }\n",
       "\n",
       "    .dataframe tbody tr th {\n",
       "        vertical-align: top;\n",
       "    }\n",
       "\n",
       "    .dataframe thead th {\n",
       "        text-align: right;\n",
       "    }\n",
       "</style>\n",
       "<table border=\"1\" class=\"dataframe\">\n",
       "  <thead>\n",
       "    <tr style=\"text-align: right;\">\n",
       "      <th></th>\n",
       "      <th>code_commune_INSEE</th>\n",
       "      <th>Distance_y</th>\n",
       "      <th>Distance_x</th>\n",
       "      <th>Population</th>\n",
       "      <th>PrixMoyen_M2</th>\n",
       "      <th>statut</th>\n",
       "      <th>s1</th>\n",
       "      <th>s2</th>\n",
       "      <th>s3</th>\n",
       "      <th>s4</th>\n",
       "      <th>s5</th>\n",
       "    </tr>\n",
       "  </thead>\n",
       "  <tbody>\n",
       "    <tr>\n",
       "      <th>0</th>\n",
       "      <td>01001</td>\n",
       "      <td>18.317875</td>\n",
       "      <td>48.593034</td>\n",
       "      <td>725.0</td>\n",
       "      <td>1938.0</td>\n",
       "      <td>0.0</td>\n",
       "      <td>GI</td>\n",
       "      <td>FZ</td>\n",
       "      <td>MN</td>\n",
       "      <td>OQ</td>\n",
       "      <td>RU</td>\n",
       "    </tr>\n",
       "    <tr>\n",
       "      <th>1</th>\n",
       "      <td>01002</td>\n",
       "      <td>26.858520</td>\n",
       "      <td>41.130212</td>\n",
       "      <td>167.0</td>\n",
       "      <td>1130.0</td>\n",
       "      <td>0.0</td>\n",
       "      <td>OQ</td>\n",
       "      <td>GI</td>\n",
       "      <td>BE</td>\n",
       "      <td>MN</td>\n",
       "      <td>RU</td>\n",
       "    </tr>\n",
       "    <tr>\n",
       "      <th>2</th>\n",
       "      <td>01004</td>\n",
       "      <td>29.282985</td>\n",
       "      <td>34.282618</td>\n",
       "      <td>11432.0</td>\n",
       "      <td>2005.0</td>\n",
       "      <td>0.0</td>\n",
       "      <td>GI</td>\n",
       "      <td>OQ</td>\n",
       "      <td>FZ</td>\n",
       "      <td>MN</td>\n",
       "      <td>RU</td>\n",
       "    </tr>\n",
       "    <tr>\n",
       "      <th>3</th>\n",
       "      <td>01005</td>\n",
       "      <td>26.518172</td>\n",
       "      <td>32.350317</td>\n",
       "      <td>1407.0</td>\n",
       "      <td>2442.0</td>\n",
       "      <td>0.0</td>\n",
       "      <td>GI</td>\n",
       "      <td>FZ</td>\n",
       "      <td>OQ</td>\n",
       "      <td>MN</td>\n",
       "      <td>RU</td>\n",
       "    </tr>\n",
       "    <tr>\n",
       "      <th>4</th>\n",
       "      <td>01006</td>\n",
       "      <td>32.116108</td>\n",
       "      <td>39.974384</td>\n",
       "      <td>86.0</td>\n",
       "      <td>1155.0</td>\n",
       "      <td>0.0</td>\n",
       "      <td>FZ</td>\n",
       "      <td>MN</td>\n",
       "      <td>GI</td>\n",
       "      <td>RU</td>\n",
       "      <td>BE</td>\n",
       "    </tr>\n",
       "    <tr>\n",
       "      <th>...</th>\n",
       "      <td>...</td>\n",
       "      <td>...</td>\n",
       "      <td>...</td>\n",
       "      <td>...</td>\n",
       "      <td>...</td>\n",
       "      <td>...</td>\n",
       "      <td>...</td>\n",
       "      <td>...</td>\n",
       "      <td>...</td>\n",
       "      <td>...</td>\n",
       "      <td>...</td>\n",
       "    </tr>\n",
       "    <tr>\n",
       "      <th>35503</th>\n",
       "      <td>95676</td>\n",
       "      <td>18.348081</td>\n",
       "      <td>48.955223</td>\n",
       "      <td>428.0</td>\n",
       "      <td>2150.0</td>\n",
       "      <td>0.0</td>\n",
       "      <td>GI</td>\n",
       "      <td>FZ</td>\n",
       "      <td>LZ</td>\n",
       "      <td>OQ</td>\n",
       "      <td>BE</td>\n",
       "    </tr>\n",
       "    <tr>\n",
       "      <th>35504</th>\n",
       "      <td>95678</td>\n",
       "      <td>22.467912</td>\n",
       "      <td>23.613028</td>\n",
       "      <td>775.0</td>\n",
       "      <td>3343.0</td>\n",
       "      <td>0.0</td>\n",
       "      <td>GI</td>\n",
       "      <td>MN</td>\n",
       "      <td>FZ</td>\n",
       "      <td>RU</td>\n",
       "      <td>JZ</td>\n",
       "    </tr>\n",
       "    <tr>\n",
       "      <th>35505</th>\n",
       "      <td>95680</td>\n",
       "      <td>12.195536</td>\n",
       "      <td>10.660258</td>\n",
       "      <td>26143.0</td>\n",
       "      <td>2449.0</td>\n",
       "      <td>0.0</td>\n",
       "      <td>GI</td>\n",
       "      <td>FZ</td>\n",
       "      <td>MN</td>\n",
       "      <td>OQ</td>\n",
       "      <td>RU</td>\n",
       "    </tr>\n",
       "    <tr>\n",
       "      <th>35506</th>\n",
       "      <td>95682</td>\n",
       "      <td>15.544250</td>\n",
       "      <td>13.889692</td>\n",
       "      <td>168.0</td>\n",
       "      <td>2741.0</td>\n",
       "      <td>0.0</td>\n",
       "      <td>GI</td>\n",
       "      <td>FZ</td>\n",
       "      <td>MN</td>\n",
       "      <td>JZ</td>\n",
       "      <td>RU</td>\n",
       "    </tr>\n",
       "    <tr>\n",
       "      <th>35507</th>\n",
       "      <td>95690</td>\n",
       "      <td>25.231707</td>\n",
       "      <td>44.470485</td>\n",
       "      <td>307.0</td>\n",
       "      <td>2674.0</td>\n",
       "      <td>0.0</td>\n",
       "      <td>BE</td>\n",
       "      <td>GI</td>\n",
       "      <td>FZ</td>\n",
       "      <td>MN</td>\n",
       "      <td>OQ</td>\n",
       "    </tr>\n",
       "  </tbody>\n",
       "</table>\n",
       "<p>35508 rows × 11 columns</p>\n",
       "</div>"
      ],
      "text/plain": [
       "      code_commune_INSEE  Distance_y  Distance_x  Population  PrixMoyen_M2  \\\n",
       "0                  01001   18.317875   48.593034       725.0        1938.0   \n",
       "1                  01002   26.858520   41.130212       167.0        1130.0   \n",
       "2                  01004   29.282985   34.282618     11432.0        2005.0   \n",
       "3                  01005   26.518172   32.350317      1407.0        2442.0   \n",
       "4                  01006   32.116108   39.974384        86.0        1155.0   \n",
       "...                  ...         ...         ...         ...           ...   \n",
       "35503              95676   18.348081   48.955223       428.0        2150.0   \n",
       "35504              95678   22.467912   23.613028       775.0        3343.0   \n",
       "35505              95680   12.195536   10.660258     26143.0        2449.0   \n",
       "35506              95682   15.544250   13.889692       168.0        2741.0   \n",
       "35507              95690   25.231707   44.470485       307.0        2674.0   \n",
       "\n",
       "       statut  s1  s2  s3  s4  s5  \n",
       "0         0.0  GI  FZ  MN  OQ  RU  \n",
       "1         0.0  OQ  GI  BE  MN  RU  \n",
       "2         0.0  GI  OQ  FZ  MN  RU  \n",
       "3         0.0  GI  FZ  OQ  MN  RU  \n",
       "4         0.0  FZ  MN  GI  RU  BE  \n",
       "...       ...  ..  ..  ..  ..  ..  \n",
       "35503     0.0  GI  FZ  LZ  OQ  BE  \n",
       "35504     0.0  GI  MN  FZ  RU  JZ  \n",
       "35505     0.0  GI  FZ  MN  OQ  RU  \n",
       "35506     0.0  GI  FZ  MN  JZ  RU  \n",
       "35507     0.0  BE  GI  FZ  MN  OQ  \n",
       "\n",
       "[35508 rows x 11 columns]"
      ]
     },
     "execution_count": 52,
     "metadata": {},
     "output_type": "execute_result"
    }
   ],
   "source": [
    "df"
   ]
  },
  {
   "cell_type": "code",
   "execution_count": 53,
   "id": "960e0762",
   "metadata": {},
   "outputs": [
    {
     "data": {
      "text/html": [
       "<div>\n",
       "<style scoped>\n",
       "    .dataframe tbody tr th:only-of-type {\n",
       "        vertical-align: middle;\n",
       "    }\n",
       "\n",
       "    .dataframe tbody tr th {\n",
       "        vertical-align: top;\n",
       "    }\n",
       "\n",
       "    .dataframe thead th {\n",
       "        text-align: right;\n",
       "    }\n",
       "</style>\n",
       "<table border=\"1\" class=\"dataframe\">\n",
       "  <thead>\n",
       "    <tr style=\"text-align: right;\">\n",
       "      <th></th>\n",
       "      <th>Distance_y</th>\n",
       "      <th>Distance_x</th>\n",
       "      <th>Population</th>\n",
       "      <th>PrixMoyen_M2</th>\n",
       "      <th>statut</th>\n",
       "    </tr>\n",
       "  </thead>\n",
       "  <tbody>\n",
       "    <tr>\n",
       "      <th>52</th>\n",
       "      <td>30.226509</td>\n",
       "      <td>56.495614</td>\n",
       "      <td>105.0</td>\n",
       "      <td>NaN</td>\n",
       "      <td>0.0</td>\n",
       "    </tr>\n",
       "    <tr>\n",
       "      <th>82</th>\n",
       "      <td>37.102548</td>\n",
       "      <td>69.452692</td>\n",
       "      <td>2657.0</td>\n",
       "      <td>NaN</td>\n",
       "      <td>0.0</td>\n",
       "    </tr>\n",
       "    <tr>\n",
       "      <th>88</th>\n",
       "      <td>30.789225</td>\n",
       "      <td>52.799409</td>\n",
       "      <td>176.0</td>\n",
       "      <td>NaN</td>\n",
       "      <td>0.0</td>\n",
       "    </tr>\n",
       "    <tr>\n",
       "      <th>111</th>\n",
       "      <td>39.975718</td>\n",
       "      <td>47.393657</td>\n",
       "      <td>726.0</td>\n",
       "      <td>NaN</td>\n",
       "      <td>0.0</td>\n",
       "    </tr>\n",
       "    <tr>\n",
       "      <th>129</th>\n",
       "      <td>17.893487</td>\n",
       "      <td>67.737684</td>\n",
       "      <td>597.0</td>\n",
       "      <td>NaN</td>\n",
       "      <td>0.0</td>\n",
       "    </tr>\n",
       "    <tr>\n",
       "      <th>...</th>\n",
       "      <td>...</td>\n",
       "      <td>...</td>\n",
       "      <td>...</td>\n",
       "      <td>...</td>\n",
       "      <td>...</td>\n",
       "    </tr>\n",
       "    <tr>\n",
       "      <th>34965</th>\n",
       "      <td>70.172395</td>\n",
       "      <td>112.709217</td>\n",
       "      <td>316.0</td>\n",
       "      <td>NaN</td>\n",
       "      <td>0.0</td>\n",
       "    </tr>\n",
       "    <tr>\n",
       "      <th>35037</th>\n",
       "      <td>0.917858</td>\n",
       "      <td>48.340703</td>\n",
       "      <td>250.0</td>\n",
       "      <td>NaN</td>\n",
       "      <td>0.0</td>\n",
       "    </tr>\n",
       "    <tr>\n",
       "      <th>35122</th>\n",
       "      <td>16.062473</td>\n",
       "      <td>11.175276</td>\n",
       "      <td>13965.0</td>\n",
       "      <td>NaN</td>\n",
       "      <td>0.0</td>\n",
       "    </tr>\n",
       "    <tr>\n",
       "      <th>35134</th>\n",
       "      <td>45.480703</td>\n",
       "      <td>49.372808</td>\n",
       "      <td>182.0</td>\n",
       "      <td>NaN</td>\n",
       "      <td>0.0</td>\n",
       "    </tr>\n",
       "    <tr>\n",
       "      <th>35399</th>\n",
       "      <td>27.673306</td>\n",
       "      <td>43.116287</td>\n",
       "      <td>76.0</td>\n",
       "      <td>NaN</td>\n",
       "      <td>0.0</td>\n",
       "    </tr>\n",
       "  </tbody>\n",
       "</table>\n",
       "<p>913 rows × 5 columns</p>\n",
       "</div>"
      ],
      "text/plain": [
       "       Distance_y  Distance_x  Population  PrixMoyen_M2  statut\n",
       "52      30.226509   56.495614       105.0           NaN     0.0\n",
       "82      37.102548   69.452692      2657.0           NaN     0.0\n",
       "88      30.789225   52.799409       176.0           NaN     0.0\n",
       "111     39.975718   47.393657       726.0           NaN     0.0\n",
       "129     17.893487   67.737684       597.0           NaN     0.0\n",
       "...           ...         ...         ...           ...     ...\n",
       "34965   70.172395  112.709217       316.0           NaN     0.0\n",
       "35037    0.917858   48.340703       250.0           NaN     0.0\n",
       "35122   16.062473   11.175276     13965.0           NaN     0.0\n",
       "35134   45.480703   49.372808       182.0           NaN     0.0\n",
       "35399   27.673306   43.116287        76.0           NaN     0.0\n",
       "\n",
       "[913 rows x 5 columns]"
      ]
     },
     "execution_count": 53,
     "metadata": {},
     "output_type": "execute_result"
    }
   ],
   "source": [
    "X=df[['Distance_y','Distance_x','Population','PrixMoyen_M2','statut']]\n",
    "X[X.isna().any(axis=1)]"
   ]
  },
  {
   "cell_type": "code",
   "execution_count": 54,
   "id": "7efe97e0",
   "metadata": {},
   "outputs": [
    {
     "data": {
      "text/plain": [
       "Distance_y        0\n",
       "Distance_x        0\n",
       "Population        0\n",
       "PrixMoyen_M2    913\n",
       "statut            0\n",
       "dtype: int64"
      ]
     },
     "execution_count": 54,
     "metadata": {},
     "output_type": "execute_result"
    }
   ],
   "source": [
    "X.isnull().sum()"
   ]
  },
  {
   "cell_type": "code",
   "execution_count": 55,
   "id": "e9942509",
   "metadata": {},
   "outputs": [
    {
     "data": {
      "text/plain": [
       "1234.0"
      ]
     },
     "execution_count": 55,
     "metadata": {},
     "output_type": "execute_result"
    }
   ],
   "source": [
    "X['PrixMoyen_M2'].median()"
   ]
  },
  {
   "cell_type": "code",
   "execution_count": 56,
   "id": "5dc6737a",
   "metadata": {},
   "outputs": [
    {
     "name": "stderr",
     "output_type": "stream",
     "text": [
      "/tmp/ipykernel_455/681099089.py:1: SettingWithCopyWarning: \n",
      "A value is trying to be set on a copy of a slice from a DataFrame\n",
      "\n",
      "See the caveats in the documentation: https://pandas.pydata.org/pandas-docs/stable/user_guide/indexing.html#returning-a-view-versus-a-copy\n",
      "  X.PrixMoyen_M2.replace(np.nan, X.PrixMoyen_M2.median(),inplace=True)\n"
     ]
    }
   ],
   "source": [
    "X.PrixMoyen_M2.replace(np.nan, X.PrixMoyen_M2.median(),inplace=True)"
   ]
  },
  {
   "cell_type": "code",
   "execution_count": 57,
   "id": "eb94a803",
   "metadata": {},
   "outputs": [
    {
     "data": {
      "text/plain": [
       "0        48.593034\n",
       "1        41.130212\n",
       "2        34.282618\n",
       "3        32.350317\n",
       "4        39.974384\n",
       "           ...    \n",
       "35503    48.955223\n",
       "35504    23.613028\n",
       "35505    10.660258\n",
       "35506    13.889692\n",
       "35507    44.470485\n",
       "Name: Distance_x, Length: 35508, dtype: float64"
      ]
     },
     "execution_count": 57,
     "metadata": {},
     "output_type": "execute_result"
    }
   ],
   "source": [
    "X.iloc[:,1]"
   ]
  },
  {
   "cell_type": "code",
   "execution_count": 58,
   "id": "bed83e1b",
   "metadata": {},
   "outputs": [
    {
     "data": {
      "text/plain": [
       "<AxesSubplot:>"
      ]
     },
     "execution_count": 58,
     "metadata": {},
     "output_type": "execute_result"
    },
    {
     "data": {
      "image/png": "[encoded data removed]",
      "text/plain": [
       "<Figure size 432x288 with 1 Axes>"
      ]
     },
     "metadata": {
      "needs_background": "light"
     },
     "output_type": "display_data"
    }
   ],
   "source": [
    "X.iloc[:,3].plot(kind='box')"
   ]
  },
  {
   "cell_type": "code",
   "execution_count": 59,
   "id": "d23c4654",
   "metadata": {},
   "outputs": [
    {
     "data": {
      "text/plain": [
       "0.0"
      ]
     },
     "execution_count": 59,
     "metadata": {},
     "output_type": "execute_result"
    }
   ],
   "source": [
    "X.iloc[:,3].min()"
   ]
  },
  {
   "cell_type": "code",
   "execution_count": 60,
   "id": "b4c1d5f8",
   "metadata": {},
   "outputs": [
    {
     "data": {
      "text/html": [
       "<div>\n",
       "<style scoped>\n",
       "    .dataframe tbody tr th:only-of-type {\n",
       "        vertical-align: middle;\n",
       "    }\n",
       "\n",
       "    .dataframe tbody tr th {\n",
       "        vertical-align: top;\n",
       "    }\n",
       "\n",
       "    .dataframe thead th {\n",
       "        text-align: right;\n",
       "    }\n",
       "</style>\n",
       "<table border=\"1\" class=\"dataframe\">\n",
       "  <thead>\n",
       "    <tr style=\"text-align: right;\">\n",
       "      <th></th>\n",
       "      <th>Distance_y</th>\n",
       "      <th>Distance_x</th>\n",
       "      <th>Population</th>\n",
       "      <th>PrixMoyen_M2</th>\n",
       "      <th>statut</th>\n",
       "    </tr>\n",
       "  </thead>\n",
       "  <tbody>\n",
       "    <tr>\n",
       "      <th>16</th>\n",
       "      <td>40.863956</td>\n",
       "      <td>41.423796</td>\n",
       "      <td>15.0</td>\n",
       "      <td>0.0</td>\n",
       "      <td>0.0</td>\n",
       "    </tr>\n",
       "    <tr>\n",
       "      <th>19</th>\n",
       "      <td>13.991411</td>\n",
       "      <td>74.497739</td>\n",
       "      <td>69.0</td>\n",
       "      <td>0.0</td>\n",
       "      <td>0.0</td>\n",
       "    </tr>\n",
       "    <tr>\n",
       "      <th>110</th>\n",
       "      <td>28.522592</td>\n",
       "      <td>46.702407</td>\n",
       "      <td>73.0</td>\n",
       "      <td>0.0</td>\n",
       "      <td>0.0</td>\n",
       "    </tr>\n",
       "    <tr>\n",
       "      <th>124</th>\n",
       "      <td>32.289819</td>\n",
       "      <td>84.622151</td>\n",
       "      <td>406.0</td>\n",
       "      <td>0.0</td>\n",
       "      <td>0.0</td>\n",
       "    </tr>\n",
       "    <tr>\n",
       "      <th>153</th>\n",
       "      <td>31.101822</td>\n",
       "      <td>71.075523</td>\n",
       "      <td>763.0</td>\n",
       "      <td>0.0</td>\n",
       "      <td>0.0</td>\n",
       "    </tr>\n",
       "    <tr>\n",
       "      <th>...</th>\n",
       "      <td>...</td>\n",
       "      <td>...</td>\n",
       "      <td>...</td>\n",
       "      <td>...</td>\n",
       "      <td>...</td>\n",
       "    </tr>\n",
       "    <tr>\n",
       "      <th>35367</th>\n",
       "      <td>10.419190</td>\n",
       "      <td>8.838509</td>\n",
       "      <td>61.0</td>\n",
       "      <td>0.0</td>\n",
       "      <td>0.0</td>\n",
       "    </tr>\n",
       "    <tr>\n",
       "      <th>35371</th>\n",
       "      <td>4.628566</td>\n",
       "      <td>3.608239</td>\n",
       "      <td>218.0</td>\n",
       "      <td>0.0</td>\n",
       "      <td>0.0</td>\n",
       "    </tr>\n",
       "    <tr>\n",
       "      <th>35386</th>\n",
       "      <td>3.360933</td>\n",
       "      <td>2.277847</td>\n",
       "      <td>60.0</td>\n",
       "      <td>0.0</td>\n",
       "      <td>0.0</td>\n",
       "    </tr>\n",
       "    <tr>\n",
       "      <th>35419</th>\n",
       "      <td>14.036480</td>\n",
       "      <td>12.512457</td>\n",
       "      <td>177.0</td>\n",
       "      <td>0.0</td>\n",
       "      <td>0.0</td>\n",
       "    </tr>\n",
       "    <tr>\n",
       "      <th>35489</th>\n",
       "      <td>36.361876</td>\n",
       "      <td>32.735073</td>\n",
       "      <td>59.0</td>\n",
       "      <td>0.0</td>\n",
       "      <td>0.0</td>\n",
       "    </tr>\n",
       "  </tbody>\n",
       "</table>\n",
       "<p>8048 rows × 5 columns</p>\n",
       "</div>"
      ],
      "text/plain": [
       "       Distance_y  Distance_x  Population  PrixMoyen_M2  statut\n",
       "16      40.863956   41.423796        15.0           0.0     0.0\n",
       "19      13.991411   74.497739        69.0           0.0     0.0\n",
       "110     28.522592   46.702407        73.0           0.0     0.0\n",
       "124     32.289819   84.622151       406.0           0.0     0.0\n",
       "153     31.101822   71.075523       763.0           0.0     0.0\n",
       "...           ...         ...         ...           ...     ...\n",
       "35367   10.419190    8.838509        61.0           0.0     0.0\n",
       "35371    4.628566    3.608239       218.0           0.0     0.0\n",
       "35386    3.360933    2.277847        60.0           0.0     0.0\n",
       "35419   14.036480   12.512457       177.0           0.0     0.0\n",
       "35489   36.361876   32.735073        59.0           0.0     0.0\n",
       "\n",
       "[8048 rows x 5 columns]"
      ]
     },
     "execution_count": 60,
     "metadata": {},
     "output_type": "execute_result"
    }
   ],
   "source": [
    "X[X.iloc[:,3]==0]"
   ]
  },
  {
   "cell_type": "code",
   "execution_count": 61,
   "id": "93192869",
   "metadata": {},
   "outputs": [
    {
     "data": {
      "text/plain": [
       "Distance_y      0\n",
       "Distance_x      0\n",
       "Population      0\n",
       "PrixMoyen_M2    0\n",
       "statut          0\n",
       "dtype: int64"
      ]
     },
     "execution_count": 61,
     "metadata": {},
     "output_type": "execute_result"
    }
   ],
   "source": [
    "X.isnull().sum()"
   ]
  },
  {
   "cell_type": "code",
   "execution_count": 63,
   "id": "aa6944ad",
   "metadata": {},
   "outputs": [
    {
     "data": {
      "text/plain": [
       "65494411167.37845"
      ]
     },
     "execution_count": 63,
     "metadata": {},
     "output_type": "execute_result"
    }
   ],
   "source": [
    "km = KMeans(n_clusters=3)\n",
    "km.fit(X).inertia_"
   ]
  },
  {
   "cell_type": "code",
   "execution_count": 65,
   "id": "2d02135e",
   "metadata": {},
   "outputs": [
    {
     "data": {
      "text/plain": [
       "[267920692576.8299,\n",
       " 107949744563.29387,\n",
       " 65494411167.37845,\n",
       " 48003849555.25225,\n",
       " 35294011299.67748,\n",
       " 28684190880.035534,\n",
       " 23279748108.458015,\n",
       " 19769800375.4498,\n",
       " 17480205518.36946,\n",
       " 15405968274.588856,\n",
       " 14142120677.185917,\n",
       " 13154377939.690306,\n",
       " 12178304360.273397,\n",
       " 11267629162.39406,\n",
       " 10566471060.349846,\n",
       " 9915495832.45117,\n",
       " 9352383119.412632,\n",
       " 8875619129.906641,\n",
       " 8339193325.255684,\n",
       " 7944347645.995437,\n",
       " 7599376094.28242,\n",
       " 7291835238.882543,\n",
       " 6990121047.473831,\n",
       " 6719667100.490905,\n",
       " 6442957902.801475,\n",
       " 6214775125.827593,\n",
       " 6005483801.405473,\n",
       " 5760359418.974823,\n",
       " 5593440139.289308,\n",
       " 5387854504.381149,\n",
       " 5237920378.414808,\n",
       " 5089892317.727983,\n",
       " 4971578144.584652,\n",
       " 4831626042.433708,\n",
       " 4679382179.148752,\n",
       " 4556967124.584243,\n",
       " 4420682101.259345,\n",
       " 4302782296.346424,\n",
       " 4197416713.196898]"
      ]
     },
     "execution_count": 65,
     "metadata": {},
     "output_type": "execute_result"
    }
   ],
   "source": [
    "wcss = []\n",
    "clusters = list(range(1, 40))\n",
    "for K in clusters:\n",
    "    wcss.append(KMeans(n_clusters=K, random_state=42).fit(X).inertia_)\n",
    "wcss"
   ]
  },
  {
   "cell_type": "code",
   "execution_count": 67,
   "id": "ab03de4b",
   "metadata": {},
   "outputs": [
    {
     "data": {
      "text/plain": [
       "<AxesSubplot:>"
      ]
     },
     "execution_count": 67,
     "metadata": {},
     "output_type": "execute_result"
    },
    {
     "data": {
      "image/png": "[encoded data removed]",
      "text/plain": [
       "<Figure size 432x288 with 1 Axes>"
      ]
     },
     "metadata": {
      "needs_background": "light"
     },
     "output_type": "display_data"
    }
   ],
   "source": [
    "import seaborn as sns\n",
    "sns.lineplot(x=clusters,y=wcss)"
   ]
  },
  {
   "cell_type": "code",
   "execution_count": 68,
   "id": "138bf702",
   "metadata": {},
   "outputs": [
    {
     "data": {
      "text/plain": [
       "array([ 2, 11, 14, ...,  3, 12, 12], dtype=int32)"
      ]
     },
     "execution_count": 68,
     "metadata": {},
     "output_type": "execute_result"
    }
   ],
   "source": [
    "km2 = KMeans(n_clusters=15,random_state=42)\n",
    "km2.fit(X)\n",
    "y_pred2=km2.predict(X)\n",
    "y_pred2"
   ]
  },
  {
   "cell_type": "code",
   "execution_count": null,
   "id": "881a4aae",
   "metadata": {},
   "outputs": [],
   "source": []
  }
 ],
 "metadata": {
  "kernelspec": {
   "display_name": "Python 3 (ipykernel)",
   "language": "python",
   "name": "python3"
  },
  "language_info": {
   "codemirror_mode": {
    "name": "ipython",
    "version": 3
   },
   "file_extension": ".py",
   "mimetype": "text/x-python",
   "name": "python",
   "nbconvert_exporter": "python",
   "pygments_lexer": "ipython3",
   "version": "3.8.12"
  },
  "toc": {
   "base_numbering": 1,
   "nav_menu": {},
   "number_sections": true,
   "sideBar": true,
   "skip_h1_title": false,
   "title_cell": "Table of Contents",
   "title_sidebar": "Contents",
   "toc_cell": false,
   "toc_position": {},
   "toc_section_display": true,
   "toc_window_display": false
  }
 },
 "nbformat": 4,
 "nbformat_minor": 5
}
